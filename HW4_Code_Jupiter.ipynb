{
 "cells": [
  {
   "cell_type": "code",
   "execution_count": 65,
   "metadata": {},
   "outputs": [],
   "source": [
    "import pandas as pd\n",
    "import numpy as np\n",
    "import matplotlib.pyplot as plt\n",
    "%matplotlib inline\n",
    "plt.style.use('ggplot')"
   ]
  },
  {
   "cell_type": "code",
   "execution_count": 66,
   "metadata": {
    "scrolled": true
   },
   "outputs": [
    {
     "name": "stdout",
     "output_type": "stream",
     "text": [
      "Train  (177, 14)\n"
     ]
    },
    {
     "data": {
      "text/html": [
       "<div>\n",
       "<style scoped>\n",
       "    .dataframe tbody tr th:only-of-type {\n",
       "        vertical-align: middle;\n",
       "    }\n",
       "\n",
       "    .dataframe tbody tr th {\n",
       "        vertical-align: top;\n",
       "    }\n",
       "\n",
       "    .dataframe thead th {\n",
       "        text-align: right;\n",
       "    }\n",
       "</style>\n",
       "<table border=\"1\" class=\"dataframe\">\n",
       "  <thead>\n",
       "    <tr style=\"text-align: right;\">\n",
       "      <th></th>\n",
       "      <th>Feature1</th>\n",
       "      <th>Feature2</th>\n",
       "      <th>Feature3</th>\n",
       "      <th>Feature4</th>\n",
       "      <th>Feature5</th>\n",
       "      <th>Feature6</th>\n",
       "      <th>Feature7</th>\n",
       "      <th>Feature8</th>\n",
       "      <th>Feature9</th>\n",
       "      <th>Feature10</th>\n",
       "      <th>Feature11</th>\n",
       "      <th>Feature12</th>\n",
       "      <th>Feature13</th>\n",
       "      <th>Output</th>\n",
       "    </tr>\n",
       "  </thead>\n",
       "  <tbody>\n",
       "    <tr>\n",
       "      <th>0</th>\n",
       "      <td>0.96971</td>\n",
       "      <td>-0.21141</td>\n",
       "      <td>0.019567</td>\n",
       "      <td>-0.104990</td>\n",
       "      <td>0.49927</td>\n",
       "      <td>0.21940</td>\n",
       "      <td>-0.376100</td>\n",
       "      <td>-0.77941</td>\n",
       "      <td>-0.62888</td>\n",
       "      <td>0.11155</td>\n",
       "      <td>-0.063305</td>\n",
       "      <td>0.44952</td>\n",
       "      <td>0.9262</td>\n",
       "      <td>-0.980010</td>\n",
       "    </tr>\n",
       "    <tr>\n",
       "      <th>1</th>\n",
       "      <td>1.12910</td>\n",
       "      <td>1.72620</td>\n",
       "      <td>2.253300</td>\n",
       "      <td>1.971600</td>\n",
       "      <td>1.49180</td>\n",
       "      <td>0.83064</td>\n",
       "      <td>-0.301950</td>\n",
       "      <td>-0.35494</td>\n",
       "      <td>-0.15466</td>\n",
       "      <td>0.26529</td>\n",
       "      <td>-0.472900</td>\n",
       "      <td>-2.28370</td>\n",
       "      <td>-1.4468</td>\n",
       "      <td>0.000000</td>\n",
       "    </tr>\n",
       "    <tr>\n",
       "      <th>2</th>\n",
       "      <td>0.58824</td>\n",
       "      <td>0.20883</td>\n",
       "      <td>0.267020</td>\n",
       "      <td>0.792490</td>\n",
       "      <td>0.98504</td>\n",
       "      <td>0.85893</td>\n",
       "      <td>-0.035307</td>\n",
       "      <td>-0.72672</td>\n",
       "      <td>-0.65232</td>\n",
       "      <td>0.28964</td>\n",
       "      <td>-0.671170</td>\n",
       "      <td>-0.78219</td>\n",
       "      <td>-3.2950</td>\n",
       "      <td>0.000000</td>\n",
       "    </tr>\n",
       "    <tr>\n",
       "      <th>3</th>\n",
       "      <td>0.85289</td>\n",
       "      <td>0.97132</td>\n",
       "      <td>-0.209330</td>\n",
       "      <td>0.814060</td>\n",
       "      <td>0.67885</td>\n",
       "      <td>0.47691</td>\n",
       "      <td>-0.038935</td>\n",
       "      <td>0.22225</td>\n",
       "      <td>-0.67780</td>\n",
       "      <td>-0.59072</td>\n",
       "      <td>0.491200</td>\n",
       "      <td>1.16010</td>\n",
       "      <td>2.4140</td>\n",
       "      <td>0.313210</td>\n",
       "    </tr>\n",
       "    <tr>\n",
       "      <th>4</th>\n",
       "      <td>-1.90190</td>\n",
       "      <td>-1.20480</td>\n",
       "      <td>-1.103000</td>\n",
       "      <td>-0.050817</td>\n",
       "      <td>1.11800</td>\n",
       "      <td>0.61725</td>\n",
       "      <td>1.138100</td>\n",
       "      <td>1.83370</td>\n",
       "      <td>3.39220</td>\n",
       "      <td>4.21100</td>\n",
       "      <td>0.561280</td>\n",
       "      <td>0.50147</td>\n",
       "      <td>-1.3378</td>\n",
       "      <td>0.095141</td>\n",
       "    </tr>\n",
       "  </tbody>\n",
       "</table>\n",
       "</div>"
      ],
      "text/plain": [
       "   Feature1  Feature2  Feature3  Feature4  Feature5  Feature6  Feature7  \\\n",
       "0   0.96971  -0.21141  0.019567 -0.104990   0.49927   0.21940 -0.376100   \n",
       "1   1.12910   1.72620  2.253300  1.971600   1.49180   0.83064 -0.301950   \n",
       "2   0.58824   0.20883  0.267020  0.792490   0.98504   0.85893 -0.035307   \n",
       "3   0.85289   0.97132 -0.209330  0.814060   0.67885   0.47691 -0.038935   \n",
       "4  -1.90190  -1.20480 -1.103000 -0.050817   1.11800   0.61725  1.138100   \n",
       "\n",
       "   Feature8  Feature9  Feature10  Feature11  Feature12  Feature13    Output  \n",
       "0  -0.77941  -0.62888    0.11155  -0.063305    0.44952     0.9262 -0.980010  \n",
       "1  -0.35494  -0.15466    0.26529  -0.472900   -2.28370    -1.4468  0.000000  \n",
       "2  -0.72672  -0.65232    0.28964  -0.671170   -0.78219    -3.2950  0.000000  \n",
       "3   0.22225  -0.67780   -0.59072   0.491200    1.16010     2.4140  0.313210  \n",
       "4   1.83370   3.39220    4.21100   0.561280    0.50147    -1.3378  0.095141  "
      ]
     },
     "execution_count": 66,
     "metadata": {},
     "output_type": "execute_result"
    }
   ],
   "source": [
    "#Read the training set from file\n",
    "train = pd.read_csv('Train_1a.csv')\n",
    "print(\"Train \", train.shape)\n",
    "train.head()"
   ]
  },
  {
   "cell_type": "code",
   "execution_count": 67,
   "metadata": {},
   "outputs": [
    {
     "name": "stdout",
     "output_type": "stream",
     "text": [
      "Test  (15, 13)\n"
     ]
    },
    {
     "data": {
      "text/html": [
       "<div>\n",
       "<style scoped>\n",
       "    .dataframe tbody tr th:only-of-type {\n",
       "        vertical-align: middle;\n",
       "    }\n",
       "\n",
       "    .dataframe tbody tr th {\n",
       "        vertical-align: top;\n",
       "    }\n",
       "\n",
       "    .dataframe thead th {\n",
       "        text-align: right;\n",
       "    }\n",
       "</style>\n",
       "<table border=\"1\" class=\"dataframe\">\n",
       "  <thead>\n",
       "    <tr style=\"text-align: right;\">\n",
       "      <th></th>\n",
       "      <th>Feature1</th>\n",
       "      <th>Feature2</th>\n",
       "      <th>Feature3</th>\n",
       "      <th>Feature4</th>\n",
       "      <th>Feature5</th>\n",
       "      <th>Feature6</th>\n",
       "      <th>Feature7</th>\n",
       "      <th>Feature8</th>\n",
       "      <th>Feature9</th>\n",
       "      <th>Feature10</th>\n",
       "      <th>Feature11</th>\n",
       "      <th>Feature12</th>\n",
       "      <th>Feature13</th>\n",
       "    </tr>\n",
       "  </thead>\n",
       "  <tbody>\n",
       "    <tr>\n",
       "      <th>0</th>\n",
       "      <td>-1.23150</td>\n",
       "      <td>-1.01690</td>\n",
       "      <td>-0.61475</td>\n",
       "      <td>-0.258790</td>\n",
       "      <td>0.009898</td>\n",
       "      <td>-1.01320</td>\n",
       "      <td>0.24300</td>\n",
       "      <td>0.961700</td>\n",
       "      <td>0.38382</td>\n",
       "      <td>0.038324</td>\n",
       "      <td>0.80103</td>\n",
       "      <td>0.15615</td>\n",
       "      <td>-0.40894</td>\n",
       "    </tr>\n",
       "    <tr>\n",
       "      <th>1</th>\n",
       "      <td>-1.25870</td>\n",
       "      <td>-1.23540</td>\n",
       "      <td>-1.63320</td>\n",
       "      <td>-0.685130</td>\n",
       "      <td>-0.496210</td>\n",
       "      <td>0.13314</td>\n",
       "      <td>2.25520</td>\n",
       "      <td>2.192200</td>\n",
       "      <td>0.94823</td>\n",
       "      <td>0.855540</td>\n",
       "      <td>0.29763</td>\n",
       "      <td>1.79430</td>\n",
       "      <td>0.11451</td>\n",
       "    </tr>\n",
       "    <tr>\n",
       "      <th>2</th>\n",
       "      <td>-1.41580</td>\n",
       "      <td>-0.69971</td>\n",
       "      <td>-0.63847</td>\n",
       "      <td>-0.791670</td>\n",
       "      <td>0.238280</td>\n",
       "      <td>0.49237</td>\n",
       "      <td>0.37738</td>\n",
       "      <td>0.798280</td>\n",
       "      <td>0.67817</td>\n",
       "      <td>0.429860</td>\n",
       "      <td>0.33379</td>\n",
       "      <td>-3.73650</td>\n",
       "      <td>-3.19940</td>\n",
       "    </tr>\n",
       "    <tr>\n",
       "      <th>3</th>\n",
       "      <td>-0.97826</td>\n",
       "      <td>-0.32026</td>\n",
       "      <td>0.20579</td>\n",
       "      <td>0.335350</td>\n",
       "      <td>1.044700</td>\n",
       "      <td>0.53494</td>\n",
       "      <td>0.64235</td>\n",
       "      <td>0.455280</td>\n",
       "      <td>-0.28903</td>\n",
       "      <td>0.422880</td>\n",
       "      <td>0.48706</td>\n",
       "      <td>-1.69930</td>\n",
       "      <td>-0.34848</td>\n",
       "    </tr>\n",
       "    <tr>\n",
       "      <th>4</th>\n",
       "      <td>-0.91776</td>\n",
       "      <td>-0.80828</td>\n",
       "      <td>-0.16043</td>\n",
       "      <td>0.051664</td>\n",
       "      <td>0.974000</td>\n",
       "      <td>0.62442</td>\n",
       "      <td>0.94081</td>\n",
       "      <td>0.048564</td>\n",
       "      <td>0.26090</td>\n",
       "      <td>0.083265</td>\n",
       "      <td>0.27589</td>\n",
       "      <td>-2.44840</td>\n",
       "      <td>0.59751</td>\n",
       "    </tr>\n",
       "  </tbody>\n",
       "</table>\n",
       "</div>"
      ],
      "text/plain": [
       "   Feature1  Feature2  Feature3  Feature4  Feature5  Feature6  Feature7  \\\n",
       "0  -1.23150  -1.01690  -0.61475 -0.258790  0.009898  -1.01320   0.24300   \n",
       "1  -1.25870  -1.23540  -1.63320 -0.685130 -0.496210   0.13314   2.25520   \n",
       "2  -1.41580  -0.69971  -0.63847 -0.791670  0.238280   0.49237   0.37738   \n",
       "3  -0.97826  -0.32026   0.20579  0.335350  1.044700   0.53494   0.64235   \n",
       "4  -0.91776  -0.80828  -0.16043  0.051664  0.974000   0.62442   0.94081   \n",
       "\n",
       "   Feature8  Feature9  Feature10  Feature11  Feature12  Feature13  \n",
       "0  0.961700   0.38382   0.038324    0.80103    0.15615   -0.40894  \n",
       "1  2.192200   0.94823   0.855540    0.29763    1.79430    0.11451  \n",
       "2  0.798280   0.67817   0.429860    0.33379   -3.73650   -3.19940  \n",
       "3  0.455280  -0.28903   0.422880    0.48706   -1.69930   -0.34848  \n",
       "4  0.048564   0.26090   0.083265    0.27589   -2.44840    0.59751  "
      ]
     },
     "execution_count": 67,
     "metadata": {},
     "output_type": "execute_result"
    }
   ],
   "source": [
    "#Read the testing set that we're going to predict\n",
    "test = pd.read_csv('Test_1a.csv')\n",
    "print(\"Test \", test.shape)\n",
    "test.head()"
   ]
  },
  {
   "cell_type": "code",
   "execution_count": 68,
   "metadata": {},
   "outputs": [],
   "source": [
    "from sklearn.linear_model import Lasso, LassoCV\n",
    "from sklearn.model_selection import train_test_split\n",
    "from sklearn.metrics import mean_squared_error"
   ]
  },
  {
   "cell_type": "code",
   "execution_count": 69,
   "metadata": {},
   "outputs": [
    {
     "data": {
      "text/plain": [
       "array([ 1,  1,  1,  1,  1,  1,  1,  1,  1,  1,  1,  1,  1,  1,  1,  1,  1,\n",
       "        1,  1,  1,  1,  1,  1,  1,  1,  1,  1,  1,  1,  1,  1,  1,  1,  1,\n",
       "        1,  1,  1,  1,  1,  1,  1,  1,  1,  1,  1,  1,  1,  1,  1,  1,  1,\n",
       "        1,  1,  1,  1,  1,  1,  1,  1,  1,  1,  1,  1,  1,  1,  1,  1,  1,\n",
       "        1,  1,  1,  1,  1,  1,  1,  1,  1,  1,  1,  1,  1,  1,  1,  1, -1,\n",
       "        1,  1,  1,  1,  1,  1,  1,  1,  1,  1,  1,  1,  1,  1,  1,  1,  1,\n",
       "        1,  1,  1,  1,  1,  1,  1,  1,  1,  1,  1,  1, -1,  1,  1,  1,  1,\n",
       "        1,  1,  1,  1,  1,  1,  1,  1,  1,  1,  1,  1,  1,  1,  1,  1,  1,\n",
       "        1,  1,  1,  1,  1,  1,  1,  1,  1,  1,  1,  1,  1,  1,  1,  1,  1,\n",
       "        1,  1,  1,  1,  1,  1,  1,  1,  1,  1,  1,  1,  1,  1,  1,  1,  1,\n",
       "        1,  1,  1,  1,  1,  1,  1])"
      ]
     },
     "execution_count": 69,
     "metadata": {},
     "output_type": "execute_result"
    }
   ],
   "source": [
    "#Select outliers by using Elliptic Envelope technique in Python. The index with value -1 is identified as an outlier\n",
    "from sklearn.covariance import EllipticEnvelope\n",
    "ee = EllipticEnvelope(contamination=0.01)\n",
    "yhat = ee.fit_predict(train)\n",
    "yhat"
   ]
  },
  {
   "cell_type": "code",
   "execution_count": 70,
   "metadata": {
    "scrolled": true
   },
   "outputs": [
    {
     "data": {
      "text/plain": [
       "[84, 114]"
      ]
     },
     "execution_count": 70,
     "metadata": {},
     "output_type": "execute_result"
    }
   ],
   "source": [
    "#Find the row number that has the detected outliers\n",
    "res_list = [i for i in range(len(yhat)) if yhat[i] == -1] \n",
    "res_list"
   ]
  },
  {
   "cell_type": "code",
   "execution_count": 71,
   "metadata": {},
   "outputs": [
    {
     "data": {
      "text/plain": [
       "(175, 14)"
      ]
     },
     "execution_count": 71,
     "metadata": {},
     "output_type": "execute_result"
    }
   ],
   "source": [
    "#Remove the row in dataset that has the detected outliers\n",
    "train = train.drop(res_list)\n",
    "train.shape"
   ]
  },
  {
   "cell_type": "code",
   "execution_count": 72,
   "metadata": {},
   "outputs": [
    {
     "name": "stdout",
     "output_type": "stream",
     "text": [
      "<class 'pandas.core.frame.DataFrame'>\n",
      "Int64Index: 175 entries, 0 to 176\n",
      "Data columns (total 14 columns):\n",
      " #   Column     Non-Null Count  Dtype  \n",
      "---  ------     --------------  -----  \n",
      " 0   Feature1   175 non-null    float64\n",
      " 1   Feature2   175 non-null    float64\n",
      " 2   Feature3   175 non-null    float64\n",
      " 3   Feature4   175 non-null    float64\n",
      " 4   Feature5   175 non-null    float64\n",
      " 5   Feature6   175 non-null    float64\n",
      " 6   Feature7   175 non-null    float64\n",
      " 7   Feature8   175 non-null    float64\n",
      " 8   Feature9   175 non-null    float64\n",
      " 9   Feature10  175 non-null    float64\n",
      " 10  Feature11  175 non-null    float64\n",
      " 11  Feature12  175 non-null    float64\n",
      " 12  Feature13  175 non-null    float64\n",
      " 13  Output     175 non-null    float64\n",
      "dtypes: float64(14)\n",
      "memory usage: 20.5 KB\n"
     ]
    }
   ],
   "source": [
    "#Get the information of the dataset and explore its structure\n",
    "train.info()"
   ]
  },
  {
   "cell_type": "code",
   "execution_count": 73,
   "metadata": {},
   "outputs": [
    {
     "data": {
      "text/plain": [
       "(175, 14)"
      ]
     },
     "execution_count": 73,
     "metadata": {},
     "output_type": "execute_result"
    }
   ],
   "source": [
    "#Drop any row that has Null value\n",
    "train = train.dropna()\n",
    "train.shape"
   ]
  },
  {
   "cell_type": "code",
   "execution_count": 74,
   "metadata": {
    "scrolled": true
   },
   "outputs": [
    {
     "data": {
      "text/plain": [
       "['Feature1',\n",
       " 'Feature2',\n",
       " 'Feature3',\n",
       " 'Feature4',\n",
       " 'Feature5',\n",
       " 'Feature6',\n",
       " 'Feature7',\n",
       " 'Feature8',\n",
       " 'Feature9',\n",
       " 'Feature10',\n",
       " 'Feature11',\n",
       " 'Feature12',\n",
       " 'Feature13']"
      ]
     },
     "execution_count": 74,
     "metadata": {},
     "output_type": "execute_result"
    }
   ],
   "source": [
    "#Create a list of features in dataset\n",
    "features = list(train.iloc[:, :-1].columns)\n",
    "features"
   ]
  },
  {
   "cell_type": "code",
   "execution_count": 75,
   "metadata": {},
   "outputs": [
    {
     "data": {
      "text/html": [
       "<div>\n",
       "<style scoped>\n",
       "    .dataframe tbody tr th:only-of-type {\n",
       "        vertical-align: middle;\n",
       "    }\n",
       "\n",
       "    .dataframe tbody tr th {\n",
       "        vertical-align: top;\n",
       "    }\n",
       "\n",
       "    .dataframe thead th {\n",
       "        text-align: right;\n",
       "    }\n",
       "</style>\n",
       "<table border=\"1\" class=\"dataframe\">\n",
       "  <thead>\n",
       "    <tr style=\"text-align: right;\">\n",
       "      <th></th>\n",
       "      <th>Feature1</th>\n",
       "      <th>Feature2</th>\n",
       "      <th>Feature3</th>\n",
       "      <th>Feature4</th>\n",
       "      <th>Feature5</th>\n",
       "      <th>Feature6</th>\n",
       "      <th>Feature7</th>\n",
       "      <th>Feature8</th>\n",
       "      <th>Feature9</th>\n",
       "      <th>Feature10</th>\n",
       "      <th>Feature11</th>\n",
       "      <th>Feature12</th>\n",
       "      <th>Feature13</th>\n",
       "      <th>Output</th>\n",
       "    </tr>\n",
       "  </thead>\n",
       "  <tbody>\n",
       "    <tr>\n",
       "      <th>0</th>\n",
       "      <td>0.864130</td>\n",
       "      <td>-0.321914</td>\n",
       "      <td>-0.036255</td>\n",
       "      <td>-0.079814</td>\n",
       "      <td>0.514480</td>\n",
       "      <td>0.265996</td>\n",
       "      <td>-0.226149</td>\n",
       "      <td>-0.693136</td>\n",
       "      <td>-0.581329</td>\n",
       "      <td>0.155200</td>\n",
       "      <td>-0.060481</td>\n",
       "      <td>0.159019</td>\n",
       "      <td>0.606518</td>\n",
       "      <td>-0.980010</td>\n",
       "    </tr>\n",
       "    <tr>\n",
       "      <th>1</th>\n",
       "      <td>1.021869</td>\n",
       "      <td>1.567994</td>\n",
       "      <td>1.992826</td>\n",
       "      <td>1.798584</td>\n",
       "      <td>1.442493</td>\n",
       "      <td>0.841206</td>\n",
       "      <td>-0.152706</td>\n",
       "      <td>-0.249418</td>\n",
       "      <td>-0.092840</td>\n",
       "      <td>0.314674</td>\n",
       "      <td>-0.426784</td>\n",
       "      <td>-1.038236</td>\n",
       "      <td>-0.349750</td>\n",
       "      <td>0.000000</td>\n",
       "    </tr>\n",
       "    <tr>\n",
       "      <th>2</th>\n",
       "      <td>0.486613</td>\n",
       "      <td>0.087980</td>\n",
       "      <td>0.188527</td>\n",
       "      <td>0.732010</td>\n",
       "      <td>0.968674</td>\n",
       "      <td>0.867828</td>\n",
       "      <td>0.111393</td>\n",
       "      <td>-0.638057</td>\n",
       "      <td>-0.605474</td>\n",
       "      <td>0.339932</td>\n",
       "      <td>-0.604098</td>\n",
       "      <td>-0.380517</td>\n",
       "      <td>-1.094535</td>\n",
       "      <td>0.000000</td>\n",
       "    </tr>\n",
       "    <tr>\n",
       "      <th>3</th>\n",
       "      <td>0.748521</td>\n",
       "      <td>0.831698</td>\n",
       "      <td>-0.244181</td>\n",
       "      <td>0.751521</td>\n",
       "      <td>0.682387</td>\n",
       "      <td>0.508327</td>\n",
       "      <td>0.107799</td>\n",
       "      <td>0.353946</td>\n",
       "      <td>-0.631721</td>\n",
       "      <td>-0.573259</td>\n",
       "      <td>0.435416</td>\n",
       "      <td>0.470280</td>\n",
       "      <td>1.206069</td>\n",
       "      <td>0.313210</td>\n",
       "    </tr>\n",
       "    <tr>\n",
       "      <th>4</th>\n",
       "      <td>-1.977727</td>\n",
       "      <td>-1.290847</td>\n",
       "      <td>-1.055974</td>\n",
       "      <td>-0.030811</td>\n",
       "      <td>1.092991</td>\n",
       "      <td>0.640394</td>\n",
       "      <td>1.273604</td>\n",
       "      <td>2.038469</td>\n",
       "      <td>3.560737</td>\n",
       "      <td>4.407530</td>\n",
       "      <td>0.498089</td>\n",
       "      <td>0.181775</td>\n",
       "      <td>-0.305825</td>\n",
       "      <td>0.095141</td>\n",
       "    </tr>\n",
       "  </tbody>\n",
       "</table>\n",
       "</div>"
      ],
      "text/plain": [
       "   Feature1  Feature2  Feature3  Feature4  Feature5  Feature6  Feature7  \\\n",
       "0  0.864130 -0.321914 -0.036255 -0.079814  0.514480  0.265996 -0.226149   \n",
       "1  1.021869  1.567994  1.992826  1.798584  1.442493  0.841206 -0.152706   \n",
       "2  0.486613  0.087980  0.188527  0.732010  0.968674  0.867828  0.111393   \n",
       "3  0.748521  0.831698 -0.244181  0.751521  0.682387  0.508327  0.107799   \n",
       "4 -1.977727 -1.290847 -1.055974 -0.030811  1.092991  0.640394  1.273604   \n",
       "\n",
       "   Feature8  Feature9  Feature10  Feature11  Feature12  Feature13    Output  \n",
       "0 -0.693136 -0.581329   0.155200  -0.060481   0.159019   0.606518 -0.980010  \n",
       "1 -0.249418 -0.092840   0.314674  -0.426784  -1.038236  -0.349750  0.000000  \n",
       "2 -0.638057 -0.605474   0.339932  -0.604098  -0.380517  -1.094535  0.000000  \n",
       "3  0.353946 -0.631721  -0.573259   0.435416   0.470280   1.206069  0.313210  \n",
       "4  2.038469  3.560737   4.407530   0.498089   0.181775  -0.305825  0.095141  "
      ]
     },
     "execution_count": 75,
     "metadata": {},
     "output_type": "execute_result"
    }
   ],
   "source": [
    "#Standardize the features with the module StandardScaler \n",
    "from sklearn.preprocessing import StandardScaler\n",
    "scaler = StandardScaler()\n",
    "\n",
    "train[features] = scaler.fit_transform(train[features])\n",
    "train.head(5)"
   ]
  },
  {
   "cell_type": "code",
   "execution_count": 76,
   "metadata": {},
   "outputs": [],
   "source": [
    "#Prepare sklearn-style objects X (features) and y (target)\n",
    "X = train.drop(['Output'], axis=1)\n",
    "y = train['Output']"
   ]
  },
  {
   "cell_type": "code",
   "execution_count": 77,
   "metadata": {},
   "outputs": [],
   "source": [
    "#Use the cross-validation package to split data into training and test sets\n",
    "X_train, X_test, y_train, y_test = train_test_split(X, y, test_size=0.10, random_state = 10)"
   ]
  },
  {
   "cell_type": "code",
   "execution_count": 78,
   "metadata": {},
   "outputs": [
    {
     "data": {
      "text/plain": [
       "(50, 13)"
      ]
     },
     "execution_count": 78,
     "metadata": {},
     "output_type": "execute_result"
    }
   ],
   "source": [
    "#Fit a Set of Lasso Models\n",
    "alphas = 10**np.linspace(6,-2,50)*0.5\n",
    "lasso = Lasso(max_iter=10000, normalize=True)\n",
    "coefs = []\n",
    "\n",
    "for a in alphas:\n",
    "    lasso.set_params(alpha=a)\n",
    "    lasso.fit(X, y)\n",
    "    coefs.append(lasso.coef_)\n",
    "    \n",
    "np.shape(coefs)"
   ]
  },
  {
   "cell_type": "code",
   "execution_count": 79,
   "metadata": {
    "scrolled": false
   },
   "outputs": [
    {
     "data": {
      "text/plain": [
       "Text(0, 0.5, 'weights')"
      ]
     },
     "execution_count": 79,
     "metadata": {},
     "output_type": "execute_result"
    },
    {
     "data": {
      "image/png": "[encoded data removed]",
      "text/plain": [
       "<Figure size 432x288 with 1 Axes>"
      ]
     },
     "metadata": {},
     "output_type": "display_data"
    }
   ],
   "source": [
    "#Plot Lasso tuning parameter alpha, the relationship between alpha and the weight (regression parameters)\n",
    "ax = plt.gca()\n",
    "ax.plot(alphas, coefs)\n",
    "ax.set_xscale('log')\n",
    "plt.axis('tight')\n",
    "plt.xlabel('alpha')\n",
    "plt.ylabel('weights')"
   ]
  },
  {
   "cell_type": "code",
   "execution_count": 80,
   "metadata": {},
   "outputs": [
    {
     "name": "stdout",
     "output_type": "stream",
     "text": [
      "Alpha= 0.0006566779176820057\n",
      "mse =  0.049051939678687234\n",
      "rmse =  0.22147672491412554\n",
      "best model coefficients:\n"
     ]
    },
    {
     "data": {
      "text/plain": [
       "Feature1    -0.056607\n",
       "Feature2     0.000000\n",
       "Feature3    -0.013479\n",
       "Feature4     0.000000\n",
       "Feature5     0.000000\n",
       "Feature6     0.071985\n",
       "Feature7     0.108834\n",
       "Feature8     0.010618\n",
       "Feature9    -0.000000\n",
       "Feature10   -0.024205\n",
       "Feature11   -0.151454\n",
       "Feature12    0.020411\n",
       "Feature13   -0.008024\n",
       "dtype: float64"
      ]
     },
     "execution_count": 80,
     "metadata": {},
     "output_type": "execute_result"
    }
   ],
   "source": [
    "#Cross Validation Lasso (10-fold cross-validation)\n",
    "lassocv = LassoCV(alphas=None, cv=10, max_iter=100000, normalize=True)\n",
    "lassocv.fit(X_train, y_train)\n",
    "lasso.set_params(alpha=lassocv.alpha_)\n",
    "print(\"Alpha=\", lassocv.alpha_)\n",
    "lasso.fit(X_train, y_train)\n",
    "mse = mean_squared_error(y_test, lasso.predict(X_test))\n",
    "print(\"mse = \", mse)\n",
    "print(\"rmse = \", np.sqrt(mse))\n",
    "print(\"best model coefficients:\")\n",
    "pd.Series(lasso.coef_, index=X.columns)"
   ]
  },
  {
   "cell_type": "code",
   "execution_count": 81,
   "metadata": {},
   "outputs": [
    {
     "data": {
      "text/plain": [
       "array([-0.2362403 ,  0.17930402, -0.09999174, -0.11221827, -0.05877882,\n",
       "        0.11350225,  0.0922628 ,  0.06160995, -0.01055881, -0.02966442,\n",
       "       -0.02341146, -0.00521872, -0.07692268,  0.0039371 ,  0.05186225])"
      ]
     },
     "execution_count": 81,
     "metadata": {},
     "output_type": "execute_result"
    }
   ],
   "source": [
    "#Use the model to predict the output for testing dataset\n",
    "test_predictions = lasso.predict(test)\n",
    "test_predictions"
   ]
  }
 ],
 "metadata": {
  "kernelspec": {
   "display_name": "Python 3",
   "language": "python",
   "name": "python3"
  },
  "language_info": {
   "codemirror_mode": {
    "name": "ipython",
    "version": 3
   },
   "file_extension": ".py",
   "mimetype": "text/x-python",
   "name": "python",
   "nbconvert_exporter": "python",
   "pygments_lexer": "ipython3",
   "version": "3.8.3"
  }
 },
 "nbformat": 4,
 "nbformat_minor": 4
}
